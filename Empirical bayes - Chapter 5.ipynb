{
 "cells": [
  {
   "cell_type": "code",
   "execution_count": 2,
   "metadata": {},
   "outputs": [],
   "source": [
    "import pandas as pd\n",
    "import scipy\n",
    "import numpy as np\n",
    "import scipy.stats as st\n",
    "import matplotlib.pyplot as plt\n",
    "import seaborn as sns\n",
    "sns.set(style=\"darkgrid\")"
   ]
  },
  {
   "cell_type": "markdown",
   "metadata": {},
   "source": [
    "## Preparing the dataset\n",
    "\n",
    "Here, we will prepare the dataset with the data that we created in chapter three. For an explanation, see the notebook for chapter 3 as well as chapter 3 in the book."
   ]
  },
  {
   "cell_type": "code",
   "execution_count": 4,
   "metadata": {},
   "outputs": [],
   "source": [
    "# create batting average dataset (sum over years)\n",
    "batting = pd.read_csv(\"~/baseball/core/Batting.csv\")\n",
    "pitching = pd.read_csv(\"~/baseball/core/Pitching.csv\")\n",
    "# filter pitchers\n",
    "batting_pitchers = batting.playerID.isin(pitching.playerID)\n",
    "batting = batting[~batting_pitchers]\n",
    "# sum over seasons\n",
    "batting = batting.loc[batting[\"AB\"] > 0].groupby(\"playerID\").agg({\"AB\": \"sum\", \"H\": \"sum\"})\n",
    "batting[\"average\"] = batting[\"H\"]/batting[\"AB\"]\n",
    "# add actual player name\n",
    "people = pd.read_csv(\"~/baseball/core/People.csv\")\n",
    "people[\"name\"] = people[\"nameFirst\"] + \" \" + people[\"nameLast\"]\n",
    "batting = batting.merge(people[[\"playerID\", \"name\"]], on=\"playerID\")"
   ]
  },
  {
   "cell_type": "code",
   "execution_count": 6,
   "metadata": {},
   "outputs": [],
   "source": [
    "# I am using the book values here, not the values that we got in our last notebook. I think the difference comes\n",
    "# from the fact that we are using more data (data from more recent seasons).\n",
    "alpha_0 = 101.4\n",
    "beta_0 = 287.3\n",
    "# add empirical Bayes estimate\n",
    "# this is called a point estimate\n",
    "batting[\"eb_estimate\"] = (batting[\"H\"] + alpha_0) / (batting[\"AB\"] + alpha_0 + beta_0)\n",
    "batting[\"alpha_1\"] = alpha_0 + batting[\"H\"]\n",
    "batting[\"beta_1\"] = beta_0 + batting[\"AB\"] - batting[\"H\"]"
   ]
  },
  {
   "cell_type": "markdown",
   "metadata": {},
   "source": [
    "## Chapter 5\n",
    "\n",
    "Let's look at Hank Aaron:"
   ]
  },
  {
   "cell_type": "code",
   "execution_count": 7,
   "metadata": {},
   "outputs": [
    {
     "data": {
      "text/html": [
       "<div>\n",
       "<style scoped>\n",
       "    .dataframe tbody tr th:only-of-type {\n",
       "        vertical-align: middle;\n",
       "    }\n",
       "\n",
       "    .dataframe tbody tr th {\n",
       "        vertical-align: top;\n",
       "    }\n",
       "\n",
       "    .dataframe thead th {\n",
       "        text-align: right;\n",
       "    }\n",
       "</style>\n",
       "<table border=\"1\" class=\"dataframe\">\n",
       "  <thead>\n",
       "    <tr style=\"text-align: right;\">\n",
       "      <th></th>\n",
       "      <th>playerID</th>\n",
       "      <th>AB</th>\n",
       "      <th>H</th>\n",
       "      <th>average</th>\n",
       "      <th>name</th>\n",
       "      <th>eb_estimate</th>\n",
       "      <th>alpha_1</th>\n",
       "      <th>beta_1</th>\n",
       "    </tr>\n",
       "  </thead>\n",
       "  <tbody>\n",
       "    <tr>\n",
       "      <th>0</th>\n",
       "      <td>aaronha01</td>\n",
       "      <td>12364</td>\n",
       "      <td>3771</td>\n",
       "      <td>0.304998</td>\n",
       "      <td>Hank Aaron</td>\n",
       "      <td>0.303653</td>\n",
       "      <td>3872.4</td>\n",
       "      <td>8880.3</td>\n",
       "    </tr>\n",
       "  </tbody>\n",
       "</table>\n",
       "</div>"
      ],
      "text/plain": [
       "    playerID     AB     H   average        name  eb_estimate  alpha_1  beta_1\n",
       "0  aaronha01  12364  3771  0.304998  Hank Aaron     0.303653   3872.4  8880.3"
      ]
     },
     "execution_count": 7,
     "metadata": {},
     "output_type": "execute_result"
    }
   ],
   "source": [
    "batting.loc[batting.name==\"Hank Aaron\"]"
   ]
  },
  {
   "cell_type": "markdown",
   "metadata": {},
   "source": [
    "Let's plot his probability distribution:"
   ]
  },
  {
   "cell_type": "code",
   "execution_count": 17,
   "metadata": {},
   "outputs": [
    {
     "data": {
      "text/plain": [
       "[Text(0, 0.5, 'density'), Text(0.5, 0, 'Batting average')]"
      ]
     },
     "execution_count": 17,
     "metadata": {},
     "output_type": "execute_result"
    },
    {
     "data": {
      "image/png": "[encoded data removed]",
      "text/plain": [
       "<Figure size 432x288 with 1 Axes>"
      ]
     },
     "metadata": {},
     "output_type": "display_data"
    }
   ],
   "source": [
    "alpha_aaron = batting.loc[batting.name==\"Hank Aaron\", \"alpha_1\"]\n",
    "beta_aaron = batting.loc[batting.name==\"Hank Aaron\", \"beta_1\"]\n",
    "x = np.linspace(0.25,0.35,1000)\n",
    "pdf_aaron = st.beta.pdf(x,a=alpha_aaron,b=beta_aaron)\n",
    "ax = sns.lineplot(x,pdf_aaron, color=\"green\")\n",
    "plt.axvline(0.3,0,100, dashes=[2, 2], color=\"red\")\n",
    "ax.set(xlabel='Batting average', ylabel='density')"
   ]
  },
  {
   "cell_type": "code",
   "execution_count": 18,
   "metadata": {},
   "outputs": [
    {
     "data": {
      "text/plain": [
       "array([0.18493608])"
      ]
     },
     "execution_count": 18,
     "metadata": {},
     "output_type": "execute_result"
    }
   ],
   "source": [
    "st.beta.cdf(0.3,a=alpha_aaron,b=beta_aaron)"
   ]
  },
  {
   "cell_type": "code",
   "execution_count": 20,
   "metadata": {},
   "outputs": [],
   "source": [
    "batting[\"PEP\"] = st.beta.cdf(0.3,a=batting[\"alpha_1\"],b=batting[\"beta_1\"])"
   ]
  },
  {
   "cell_type": "markdown",
   "metadata": {},
   "source": [
    "We can see that most players have a PEP of almost 1:"
   ]
  },
  {
   "cell_type": "code",
   "execution_count": 60,
   "metadata": {},
   "outputs": [
    {
     "data": {
      "text/plain": [
       "[Text(0, 0.5, 'density'), Text(0.5, 0, 'PEP')]"
      ]
     },
     "execution_count": 60,
     "metadata": {},
     "output_type": "execute_result"
    },
    {
     "data": {
      "image/png": "[encoded data removed]",
      "text/plain": [
       "<Figure size 432x288 with 1 Axes>"
      ]
     },
     "metadata": {},
     "output_type": "display_data"
    }
   ],
   "source": [
    "ax = batting[\"PEP\"].hist(bins=100, density=True)\n",
    "ax.set(xlabel='PEP', ylabel='density')"
   ]
  },
  {
   "cell_type": "code",
   "execution_count": 68,
   "metadata": {},
   "outputs": [
    {
     "data": {
      "text/plain": [
       "<matplotlib.lines.Line2D at 0x1a22b4b6d8>"
      ]
     },
     "execution_count": 68,
     "metadata": {},
     "output_type": "execute_result"
    },
    {
     "data": {
      "image/png": "[encoded data removed]",
      "text/plain": [
       "<Figure size 432x288 with 1 Axes>"
      ]
     },
     "metadata": {},
     "output_type": "display_data"
    }
   ],
   "source": [
    "ax = sns.scatterplot(batting[\"eb_estimate\"], batting[\"PEP\"], hue=batting[\"AB\"])\n",
    "ax.set(xlabel='Batting average', ylabel='PEP')\n",
    "plt.axvline(0.3,0,100, dashes=[2, 2], color=\"green\")"
   ]
  },
  {
   "cell_type": "code",
   "execution_count": 36,
   "metadata": {},
   "outputs": [],
   "source": [
    "top_players = batting.sort_values(\"PEP\").head(100)"
   ]
  },
  {
   "cell_type": "markdown",
   "metadata": {},
   "source": [
    "The false discovery rate (FDR) when including the first 100 players would be 5.93%:"
   ]
  },
  {
   "cell_type": "code",
   "execution_count": 37,
   "metadata": {},
   "outputs": [
    {
     "data": {
      "text/plain": [
       "5.9297100246041605"
      ]
     },
     "execution_count": 37,
     "metadata": {},
     "output_type": "execute_result"
    }
   ],
   "source": [
    "top_players.PEP.sum()"
   ]
  },
  {
   "cell_type": "code",
   "execution_count": 38,
   "metadata": {},
   "outputs": [
    {
     "data": {
      "text/plain": [
       "0.0592971002460416"
      ]
     },
     "execution_count": 38,
     "metadata": {},
     "output_type": "execute_result"
    }
   ],
   "source": [
    "top_players.PEP.mean()"
   ]
  },
  {
   "cell_type": "markdown",
   "metadata": {},
   "source": [
    "We can quickly print some FDRs for other values of included players:"
   ]
  },
  {
   "cell_type": "code",
   "execution_count": 46,
   "metadata": {},
   "outputs": [
    {
     "name": "stdout",
     "output_type": "stream",
     "text": [
      "10 0.000\n",
      "50 0.002\n",
      "100 0.059\n",
      "150 0.164\n",
      "200 0.272\n"
     ]
    }
   ],
   "source": [
    "for n in [10, 50, 100, 150, 200]:\n",
    "    temp = batting.sort_values(\"PEP\").head(n)\n",
    "    print(n, \"%.3f\" % temp.PEP.mean())"
   ]
  },
  {
   "cell_type": "markdown",
   "metadata": {},
   "source": [
    "We can make this a little bit more formal and automatic: We will sort the whole data frame by PEP and use the `expanding` functionality from Pandas and calculate the cumulative mean of the `PEP`-column. This is called the `q-value`. This q-value can be used to control the false discovery rate (FDR)."
   ]
  },
  {
   "cell_type": "code",
   "execution_count": 51,
   "metadata": {},
   "outputs": [],
   "source": [
    "batting = batting.sort_values(\"PEP\")\n",
    "batting[\"cum_pep_mean\"] = batting[\"PEP\"].expanding(1).mean()"
   ]
  },
  {
   "cell_type": "code",
   "execution_count": 69,
   "metadata": {},
   "outputs": [
    {
     "data": {
      "text/html": [
       "<div>\n",
       "<style scoped>\n",
       "    .dataframe tbody tr th:only-of-type {\n",
       "        vertical-align: middle;\n",
       "    }\n",
       "\n",
       "    .dataframe tbody tr th {\n",
       "        vertical-align: top;\n",
       "    }\n",
       "\n",
       "    .dataframe thead th {\n",
       "        text-align: right;\n",
       "    }\n",
       "</style>\n",
       "<table border=\"1\" class=\"dataframe\">\n",
       "  <thead>\n",
       "    <tr style=\"text-align: right;\">\n",
       "      <th></th>\n",
       "      <th>playerID</th>\n",
       "      <th>AB</th>\n",
       "      <th>H</th>\n",
       "      <th>average</th>\n",
       "      <th>name</th>\n",
       "      <th>eb_estimate</th>\n",
       "      <th>alpha_1</th>\n",
       "      <th>beta_1</th>\n",
       "      <th>PEP</th>\n",
       "      <th>cum_pep_mean</th>\n",
       "    </tr>\n",
       "  </thead>\n",
       "  <tbody>\n",
       "    <tr>\n",
       "      <th>4033</th>\n",
       "      <td>hornsro01</td>\n",
       "      <td>8173</td>\n",
       "      <td>2930</td>\n",
       "      <td>0.358497</td>\n",
       "      <td>Rogers Hornsby</td>\n",
       "      <td>0.354065</td>\n",
       "      <td>3031.4</td>\n",
       "      <td>5530.3</td>\n",
       "      <td>3.100352e-27</td>\n",
       "      <td>3.100352e-27</td>\n",
       "    </tr>\n",
       "    <tr>\n",
       "      <th>2159</th>\n",
       "      <td>delahed01</td>\n",
       "      <td>7510</td>\n",
       "      <td>2597</td>\n",
       "      <td>0.345806</td>\n",
       "      <td>Ed Delahanty</td>\n",
       "      <td>0.341626</td>\n",
       "      <td>2698.4</td>\n",
       "      <td>5200.3</td>\n",
       "      <td>7.806414e-16</td>\n",
       "      <td>3.903207e-16</td>\n",
       "    </tr>\n",
       "    <tr>\n",
       "      <th>4514</th>\n",
       "      <td>keelewi01</td>\n",
       "      <td>8591</td>\n",
       "      <td>2932</td>\n",
       "      <td>0.341287</td>\n",
       "      <td>Willie Keeler</td>\n",
       "      <td>0.337806</td>\n",
       "      <td>3033.4</td>\n",
       "      <td>5946.3</td>\n",
       "      <td>5.453547e-15</td>\n",
       "      <td>2.078063e-15</td>\n",
       "    </tr>\n",
       "    <tr>\n",
       "      <th>4216</th>\n",
       "      <td>jacksjo01</td>\n",
       "      <td>4981</td>\n",
       "      <td>1772</td>\n",
       "      <td>0.355752</td>\n",
       "      <td>Shoeless Joe Jackson</td>\n",
       "      <td>0.348884</td>\n",
       "      <td>1873.4</td>\n",
       "      <td>3496.3</td>\n",
       "      <td>6.620512e-15</td>\n",
       "      <td>3.213675e-15</td>\n",
       "    </tr>\n",
       "    <tr>\n",
       "      <th>4827</th>\n",
       "      <td>lajoina01</td>\n",
       "      <td>9590</td>\n",
       "      <td>3243</td>\n",
       "      <td>0.338165</td>\n",
       "      <td>Nap Lajoie</td>\n",
       "      <td>0.335154</td>\n",
       "      <td>3344.4</td>\n",
       "      <td>6634.3</td>\n",
       "      <td>1.717115e-14</td>\n",
       "      <td>6.005171e-15</td>\n",
       "    </tr>\n",
       "    <tr>\n",
       "      <th>3489</th>\n",
       "      <td>gwynnto01</td>\n",
       "      <td>9288</td>\n",
       "      <td>3141</td>\n",
       "      <td>0.338178</td>\n",
       "      <td>Tony Gwynn</td>\n",
       "      <td>0.335073</td>\n",
       "      <td>3242.4</td>\n",
       "      <td>6434.3</td>\n",
       "      <td>4.734851e-14</td>\n",
       "      <td>1.289573e-14</td>\n",
       "    </tr>\n",
       "    <tr>\n",
       "      <th>3754</th>\n",
       "      <td>heilmha01</td>\n",
       "      <td>7787</td>\n",
       "      <td>2660</td>\n",
       "      <td>0.341595</td>\n",
       "      <td>Harry Heilmann</td>\n",
       "      <td>0.337757</td>\n",
       "      <td>2761.4</td>\n",
       "      <td>5414.3</td>\n",
       "      <td>8.901185e-14</td>\n",
       "      <td>2.376946e-14</td>\n",
       "    </tr>\n",
       "    <tr>\n",
       "      <th>3079</th>\n",
       "      <td>gehrilo01</td>\n",
       "      <td>8001</td>\n",
       "      <td>2721</td>\n",
       "      <td>0.340082</td>\n",
       "      <td>Lou Gehrig</td>\n",
       "      <td>0.336413</td>\n",
       "      <td>2822.4</td>\n",
       "      <td>5567.3</td>\n",
       "      <td>3.075781e-13</td>\n",
       "      <td>5.924553e-14</td>\n",
       "    </tr>\n",
       "    <tr>\n",
       "      <th>3559</th>\n",
       "      <td>hamilbi01</td>\n",
       "      <td>6283</td>\n",
       "      <td>2164</td>\n",
       "      <td>0.344421</td>\n",
       "      <td>Billy Hamilton</td>\n",
       "      <td>0.339554</td>\n",
       "      <td>2265.4</td>\n",
       "      <td>4406.3</td>\n",
       "      <td>1.638891e-12</td>\n",
       "      <td>2.347617e-13</td>\n",
       "    </tr>\n",
       "    <tr>\n",
       "      <th>1680</th>\n",
       "      <td>collied01</td>\n",
       "      <td>9949</td>\n",
       "      <td>3315</td>\n",
       "      <td>0.333199</td>\n",
       "      <td>Eddie Collins</td>\n",
       "      <td>0.330480</td>\n",
       "      <td>3416.4</td>\n",
       "      <td>6921.3</td>\n",
       "      <td>1.052787e-11</td>\n",
       "      <td>1.264073e-12</td>\n",
       "    </tr>\n",
       "  </tbody>\n",
       "</table>\n",
       "</div>"
      ],
      "text/plain": [
       "       playerID    AB     H   average                  name  eb_estimate  \\\n",
       "4033  hornsro01  8173  2930  0.358497        Rogers Hornsby     0.354065   \n",
       "2159  delahed01  7510  2597  0.345806          Ed Delahanty     0.341626   \n",
       "4514  keelewi01  8591  2932  0.341287         Willie Keeler     0.337806   \n",
       "4216  jacksjo01  4981  1772  0.355752  Shoeless Joe Jackson     0.348884   \n",
       "4827  lajoina01  9590  3243  0.338165            Nap Lajoie     0.335154   \n",
       "3489  gwynnto01  9288  3141  0.338178            Tony Gwynn     0.335073   \n",
       "3754  heilmha01  7787  2660  0.341595        Harry Heilmann     0.337757   \n",
       "3079  gehrilo01  8001  2721  0.340082            Lou Gehrig     0.336413   \n",
       "3559  hamilbi01  6283  2164  0.344421        Billy Hamilton     0.339554   \n",
       "1680  collied01  9949  3315  0.333199         Eddie Collins     0.330480   \n",
       "\n",
       "      alpha_1  beta_1           PEP  cum_pep_mean  \n",
       "4033   3031.4  5530.3  3.100352e-27  3.100352e-27  \n",
       "2159   2698.4  5200.3  7.806414e-16  3.903207e-16  \n",
       "4514   3033.4  5946.3  5.453547e-15  2.078063e-15  \n",
       "4216   1873.4  3496.3  6.620512e-15  3.213675e-15  \n",
       "4827   3344.4  6634.3  1.717115e-14  6.005171e-15  \n",
       "3489   3242.4  6434.3  4.734851e-14  1.289573e-14  \n",
       "3754   2761.4  5414.3  8.901185e-14  2.376946e-14  \n",
       "3079   2822.4  5567.3  3.075781e-13  5.924553e-14  \n",
       "3559   2265.4  4406.3  1.638891e-12  2.347617e-13  \n",
       "1680   3416.4  6921.3  1.052787e-11  1.264073e-12  "
      ]
     },
     "execution_count": 69,
     "metadata": {},
     "output_type": "execute_result"
    }
   ],
   "source": [
    "batting.head(10)"
   ]
  },
  {
   "cell_type": "code",
   "execution_count": 54,
   "metadata": {},
   "outputs": [],
   "source": [
    "hall_of_fame = batting.loc[batting[\"cum_pep_mean\"]< 0.05]"
   ]
  },
  {
   "cell_type": "code",
   "execution_count": 55,
   "metadata": {},
   "outputs": [
    {
     "data": {
      "text/plain": [
       "(94, 10)"
      ]
     },
     "execution_count": 55,
     "metadata": {},
     "output_type": "execute_result"
    }
   ],
   "source": [
    "hall_of_fame.shape"
   ]
  },
  {
   "cell_type": "markdown",
   "metadata": {},
   "source": [
    "We can plot the number of players for each q-value threshold:"
   ]
  },
  {
   "cell_type": "code",
   "execution_count": 70,
   "metadata": {},
   "outputs": [
    {
     "data": {
      "text/plain": [
       "[Text(0, 0.5, 'Number of included players'), Text(0.5, 0, 'q-value threshold')]"
      ]
     },
     "execution_count": 70,
     "metadata": {},
     "output_type": "execute_result"
    },
    {
     "data": {
      "image/png": "[encoded data removed]",
      "text/plain": [
       "<Figure size 432x288 with 1 Axes>"
      ]
     },
     "metadata": {},
     "output_type": "display_data"
    }
   ],
   "source": [
    "value_list = []\n",
    "for perc in np.linspace(0, 0.3, 200):\n",
    "    value_list.append(batting.loc[batting[\"cum_pep_mean\"]< perc].shape[0])\n",
    "    \n",
    "ax = sns.lineplot(np.linspace(0, 0.3, 200), value_list)\n",
    "ax.set(xlabel='q-value threshold', ylabel='Number of included players')"
   ]
  },
  {
   "cell_type": "code",
   "execution_count": null,
   "metadata": {},
   "outputs": [],
   "source": []
  }
 ],
 "metadata": {
  "kernelspec": {
   "display_name": "Python 3",
   "language": "python",
   "name": "python3"
  },
  "language_info": {
   "codemirror_mode": {
    "name": "ipython",
    "version": 3
   },
   "file_extension": ".py",
   "mimetype": "text/x-python",
   "name": "python",
   "nbconvert_exporter": "python",
   "pygments_lexer": "ipython3",
   "version": "3.6.7"
  }
 },
 "nbformat": 4,
 "nbformat_minor": 2
}
