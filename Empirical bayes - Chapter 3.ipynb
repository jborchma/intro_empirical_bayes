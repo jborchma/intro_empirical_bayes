{
 "cells": [
  {
   "cell_type": "code",
   "execution_count": 26,
   "metadata": {},
   "outputs": [],
   "source": [
    "import pandas as pd\n",
    "import scipy\n",
    "import numpy as np\n",
    "import scipy.stats as st\n",
    "import matplotlib.pyplot as plt"
   ]
  },
  {
   "cell_type": "markdown",
   "metadata": {},
   "source": [
    "## Create batting data set\n",
    "\n",
    "First, we will import the raw dataset, that has yearly batting starts for all seasons from 1871 to 2018. We will filter out odd rows with `AB=0` and calculate the batting average for each player in the data set. \n",
    "\n",
    "Next, we will add the real name of the player from the `People` dataset for convenience. Lastly, we will filter out Pitchers in order to not have to deal with two distributions."
   ]
  },
  {
   "cell_type": "code",
   "execution_count": 3,
   "metadata": {},
   "outputs": [],
   "source": [
    "# create batting average dataset (sum over years)\n",
    "batting = pd.read_csv(\"~/baseball/core/Batting.csv\")\n",
    "pitching = pd.read_csv(\"~/baseball/core/Pitching.csv\")\n",
    "# filter pitchers\n",
    "batting_pitchers = batting.playerID.isin(pitching.playerID)\n",
    "batting = batting[~batting_pitchers]\n",
    "# sum over seasons\n",
    "batting = batting.loc[batting[\"AB\"] > 0].groupby(\"playerID\").agg({\"AB\": \"sum\", \"H\": \"sum\"})\n",
    "batting[\"average\"] = batting[\"H\"]/batting[\"AB\"]"
   ]
  },
  {
   "cell_type": "code",
   "execution_count": 4,
   "metadata": {},
   "outputs": [],
   "source": [
    "# add actual player name\n",
    "people = pd.read_csv(\"~/baseball/core/People.csv\")\n",
    "people[\"name\"] = people[\"nameFirst\"] + \" \" + people[\"nameLast\"]\n",
    "batting = batting.merge(people[[\"playerID\", \"name\"]], on=\"playerID\")"
   ]
  },
  {
   "cell_type": "code",
   "execution_count": 5,
   "metadata": {},
   "outputs": [
    {
     "data": {
      "text/html": [
       "<div>\n",
       "<style scoped>\n",
       "    .dataframe tbody tr th:only-of-type {\n",
       "        vertical-align: middle;\n",
       "    }\n",
       "\n",
       "    .dataframe tbody tr th {\n",
       "        vertical-align: top;\n",
       "    }\n",
       "\n",
       "    .dataframe thead th {\n",
       "        text-align: right;\n",
       "    }\n",
       "</style>\n",
       "<table border=\"1\" class=\"dataframe\">\n",
       "  <thead>\n",
       "    <tr style=\"text-align: right;\">\n",
       "      <th></th>\n",
       "      <th>playerID</th>\n",
       "      <th>AB</th>\n",
       "      <th>H</th>\n",
       "      <th>average</th>\n",
       "      <th>name</th>\n",
       "    </tr>\n",
       "  </thead>\n",
       "  <tbody>\n",
       "    <tr>\n",
       "      <th>0</th>\n",
       "      <td>aaronha01</td>\n",
       "      <td>12364</td>\n",
       "      <td>3771</td>\n",
       "      <td>0.304998</td>\n",
       "      <td>Hank Aaron</td>\n",
       "    </tr>\n",
       "    <tr>\n",
       "      <th>1</th>\n",
       "      <td>aaronto01</td>\n",
       "      <td>944</td>\n",
       "      <td>216</td>\n",
       "      <td>0.228814</td>\n",
       "      <td>Tommie Aaron</td>\n",
       "    </tr>\n",
       "    <tr>\n",
       "      <th>2</th>\n",
       "      <td>abadan01</td>\n",
       "      <td>21</td>\n",
       "      <td>2</td>\n",
       "      <td>0.095238</td>\n",
       "      <td>Andy Abad</td>\n",
       "    </tr>\n",
       "    <tr>\n",
       "      <th>3</th>\n",
       "      <td>abadijo01</td>\n",
       "      <td>49</td>\n",
       "      <td>11</td>\n",
       "      <td>0.224490</td>\n",
       "      <td>John Abadie</td>\n",
       "    </tr>\n",
       "    <tr>\n",
       "      <th>4</th>\n",
       "      <td>abbated01</td>\n",
       "      <td>3044</td>\n",
       "      <td>772</td>\n",
       "      <td>0.253614</td>\n",
       "      <td>Ed Abbaticchio</td>\n",
       "    </tr>\n",
       "  </tbody>\n",
       "</table>\n",
       "</div>"
      ],
      "text/plain": [
       "    playerID     AB     H   average            name\n",
       "0  aaronha01  12364  3771  0.304998      Hank Aaron\n",
       "1  aaronto01    944   216  0.228814    Tommie Aaron\n",
       "2   abadan01     21     2  0.095238       Andy Abad\n",
       "3  abadijo01     49    11  0.224490     John Abadie\n",
       "4  abbated01   3044   772  0.253614  Ed Abbaticchio"
      ]
     },
     "execution_count": 5,
     "metadata": {},
     "output_type": "execute_result"
    }
   ],
   "source": [
    "batting.head()"
   ]
  },
  {
   "cell_type": "markdown",
   "metadata": {},
   "source": [
    "Let's plot the average distribution"
   ]
  },
  {
   "cell_type": "code",
   "execution_count": 7,
   "metadata": {},
   "outputs": [],
   "source": [
    "# first filter out low sample players with less than 500 AB\n",
    "batting_plot = batting[batting[\"AB\"]>=500]"
   ]
  },
  {
   "cell_type": "code",
   "execution_count": 8,
   "metadata": {},
   "outputs": [
    {
     "data": {
      "text/plain": [
       "<matplotlib.axes._subplots.AxesSubplot at 0x112723550>"
      ]
     },
     "execution_count": 8,
     "metadata": {},
     "output_type": "execute_result"
    },
    {
     "data": {
      "image/png": "[encoded data removed]",
      "text/plain": [
       "<Figure size 432x288 with 1 Axes>"
      ]
     },
     "metadata": {
      "needs_background": "light"
     },
     "output_type": "display_data"
    }
   ],
   "source": [
    "batting_plot[\"average\"].hist(bins=100)"
   ]
  },
  {
   "cell_type": "markdown",
   "metadata": {},
   "source": [
    "Let's fit a beta distribution to this data. For this we can use the scipy implementation of the beta distribution, which comes with a `.fit`-method. The scipy implementation comes with a general form of the beta distribution, we will manually set the lower (`floc`) and upper (`fscale`) bounds to 0 and 1."
   ]
  },
  {
   "cell_type": "code",
   "execution_count": 59,
   "metadata": {},
   "outputs": [],
   "source": [
    "param = st.beta.fit(batting_plot[\"average\"].values, floc=0, fscale=1)"
   ]
  },
  {
   "cell_type": "code",
   "execution_count": 40,
   "metadata": {},
   "outputs": [
    {
     "data": {
      "text/plain": [
       "(79.50347694695064, 227.83242495205718, 0, 1)"
      ]
     },
     "execution_count": 40,
     "metadata": {},
     "output_type": "execute_result"
    }
   ],
   "source": [
    "param"
   ]
  },
  {
   "cell_type": "code",
   "execution_count": 51,
   "metadata": {},
   "outputs": [],
   "source": [
    "alpha_0 = param[0]\n",
    "beta_0 = param[1]"
   ]
  },
  {
   "cell_type": "markdown",
   "metadata": {},
   "source": [
    "Let's plot out our data (with density) and our beta distribution with our fitted parameters:"
   ]
  },
  {
   "cell_type": "code",
   "execution_count": 60,
   "metadata": {},
   "outputs": [
    {
     "data": {
      "image/png": "[encoded data removed]",
      "text/plain": [
       "<Figure size 432x288 with 1 Axes>"
      ]
     },
     "metadata": {
      "needs_background": "light"
     },
     "output_type": "display_data"
    }
   ],
   "source": [
    "x = np.linspace(0.15,0.4,1000)\n",
    "pdf_fitted = st.beta.pdf(x,a=param[0],b=param[1])\n",
    "h = plt.hist(batting_plot[\"average\"], density=True, bins=50)\n",
    "\n",
    "plt.title('Beta distribution')\n",
    "plt.plot(x,pdf_fitted,'r-')\n",
    "plt.show()"
   ]
  },
  {
   "cell_type": "markdown",
   "metadata": {},
   "source": [
    "Let's create a `eb_estimate` column in our batting data:"
   ]
  },
  {
   "cell_type": "code",
   "execution_count": 52,
   "metadata": {},
   "outputs": [],
   "source": [
    "batting[\"eb_estimate\"] = (batting[\"H\"] + alpha_0) / (batting[\"AB\"] + alpha_0 + beta_0)"
   ]
  },
  {
   "cell_type": "code",
   "execution_count": 53,
   "metadata": {},
   "outputs": [
    {
     "data": {
      "text/html": [
       "<div>\n",
       "<style scoped>\n",
       "    .dataframe tbody tr th:only-of-type {\n",
       "        vertical-align: middle;\n",
       "    }\n",
       "\n",
       "    .dataframe tbody tr th {\n",
       "        vertical-align: top;\n",
       "    }\n",
       "\n",
       "    .dataframe thead th {\n",
       "        text-align: right;\n",
       "    }\n",
       "</style>\n",
       "<table border=\"1\" class=\"dataframe\">\n",
       "  <thead>\n",
       "    <tr style=\"text-align: right;\">\n",
       "      <th></th>\n",
       "      <th>playerID</th>\n",
       "      <th>AB</th>\n",
       "      <th>H</th>\n",
       "      <th>average</th>\n",
       "      <th>name</th>\n",
       "      <th>eb_estimate</th>\n",
       "    </tr>\n",
       "  </thead>\n",
       "  <tbody>\n",
       "    <tr>\n",
       "      <th>0</th>\n",
       "      <td>aaronha01</td>\n",
       "      <td>12364</td>\n",
       "      <td>3771</td>\n",
       "      <td>0.304998</td>\n",
       "      <td>Hank Aaron</td>\n",
       "      <td>0.303875</td>\n",
       "    </tr>\n",
       "    <tr>\n",
       "      <th>1</th>\n",
       "      <td>aaronto01</td>\n",
       "      <td>944</td>\n",
       "      <td>216</td>\n",
       "      <td>0.228814</td>\n",
       "      <td>Tommie Aaron</td>\n",
       "      <td>0.236150</td>\n",
       "    </tr>\n",
       "    <tr>\n",
       "      <th>2</th>\n",
       "      <td>abadan01</td>\n",
       "      <td>21</td>\n",
       "      <td>2</td>\n",
       "      <td>0.095238</td>\n",
       "      <td>Andy Abad</td>\n",
       "      <td>0.248232</td>\n",
       "    </tr>\n",
       "    <tr>\n",
       "      <th>3</th>\n",
       "      <td>abadijo01</td>\n",
       "      <td>49</td>\n",
       "      <td>11</td>\n",
       "      <td>0.224490</td>\n",
       "      <td>John Abadie</td>\n",
       "      <td>0.253984</td>\n",
       "    </tr>\n",
       "    <tr>\n",
       "      <th>4</th>\n",
       "      <td>abbated01</td>\n",
       "      <td>3044</td>\n",
       "      <td>772</td>\n",
       "      <td>0.253614</td>\n",
       "      <td>Ed Abbaticchio</td>\n",
       "      <td>0.254079</td>\n",
       "    </tr>\n",
       "  </tbody>\n",
       "</table>\n",
       "</div>"
      ],
      "text/plain": [
       "    playerID     AB     H   average            name  eb_estimate\n",
       "0  aaronha01  12364  3771  0.304998      Hank Aaron     0.303875\n",
       "1  aaronto01    944   216  0.228814    Tommie Aaron     0.236150\n",
       "2   abadan01     21     2  0.095238       Andy Abad     0.248232\n",
       "3  abadijo01     49    11  0.224490     John Abadie     0.253984\n",
       "4  abbated01   3044   772  0.253614  Ed Abbaticchio     0.254079"
      ]
     },
     "execution_count": 53,
     "metadata": {},
     "output_type": "execute_result"
    }
   ],
   "source": [
    "batting.head()"
   ]
  },
  {
   "cell_type": "markdown",
   "metadata": {},
   "source": [
    "Let's plot the simple average and the empirical Bayes estimate in a scatter plot:"
   ]
  },
  {
   "cell_type": "code",
   "execution_count": 58,
   "metadata": {},
   "outputs": [
    {
     "data": {
      "text/plain": [
       "<matplotlib.collections.PathCollection at 0x1a18cc06d8>"
      ]
     },
     "execution_count": 58,
     "metadata": {},
     "output_type": "execute_result"
    },
    {
     "data": {
      "image/png": "[encoded data removed]",
      "text/plain": [
       "<Figure size 432x288 with 1 Axes>"
      ]
     },
     "metadata": {
      "needs_background": "light"
     },
     "output_type": "display_data"
    }
   ],
   "source": [
    "plt.scatter(batting[\"average\"], batting[\"eb_estimate\"], c=batting[\"AB\"])"
   ]
  },
  {
   "cell_type": "markdown",
   "metadata": {},
   "source": [
    "From this we can see that only the data points with large sample (large `AB`) lie on the diagonal. For most of the other data points we see a large amount of shrinka: we move our estimate quite a bit towards the average given by our empiracal Bayes estimate."
   ]
  },
  {
   "cell_type": "code",
   "execution_count": null,
   "metadata": {},
   "outputs": [],
   "source": []
  }
 ],
 "metadata": {
  "kernelspec": {
   "display_name": "Python 3",
   "language": "python",
   "name": "python3"
  },
  "language_info": {
   "codemirror_mode": {
    "name": "ipython",
    "version": 3
   },
   "file_extension": ".py",
   "mimetype": "text/x-python",
   "name": "python",
   "nbconvert_exporter": "python",
   "pygments_lexer": "ipython3",
   "version": "3.6.7"
  }
 },
 "nbformat": 4,
 "nbformat_minor": 2
}
