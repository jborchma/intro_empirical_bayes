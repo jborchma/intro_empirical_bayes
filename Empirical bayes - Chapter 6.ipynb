{
 "cells": [
  {
   "cell_type": "code",
   "execution_count": 1,
   "metadata": {},
   "outputs": [],
   "source": [
    "import pandas as pd\n",
    "import scipy\n",
    "import numpy as np\n",
    "import scipy.stats as st\n",
    "import matplotlib.pyplot as plt\n",
    "import seaborn as sns\n",
    "sns.set(style=\"darkgrid\")"
   ]
  },
  {
   "cell_type": "markdown",
   "metadata": {},
   "source": [
    "## Preparing the dataset\n",
    "\n",
    "Here, we will prepare the dataset with the data that we created in chapter three. For an explanation, see the notebook for chapter 3 as well as chapter 3 in the book."
   ]
  },
  {
   "cell_type": "code",
   "execution_count": 6,
   "metadata": {},
   "outputs": [],
   "source": [
    "# create batting average dataset (sum over years)\n",
    "batting = pd.read_csv(\"~/baseball/core/Batting.csv\")\n",
    "pitching = pd.read_csv(\"~/baseball/core/Pitching.csv\")\n",
    "# filter pitchers\n",
    "batting_pitchers = batting.playerID.isin(pitching.playerID)\n",
    "batting = batting[~batting_pitchers]\n",
    "# sum over seasons\n",
    "batting = batting.loc[batting[\"AB\"] > 0].groupby(\"playerID\").agg({\"AB\": \"sum\", \"H\": \"sum\"})\n",
    "batting[\"average\"] = batting[\"H\"]/batting[\"AB\"]\n",
    "# add actual player name\n",
    "people = pd.read_csv(\"~/baseball/core/People.csv\")\n",
    "people[\"name\"] = people[\"nameFirst\"] + \" \" + people[\"nameLast\"]\n",
    "batting = batting.merge(people[[\"playerID\", \"name\"]], on=\"playerID\")\n",
    "# I am using the book values here, not the values that we got in our last notebook. I think the difference comes\n",
    "# from the fact that we are using more data (data from more recent seasons).\n",
    "alpha_0 = 101.4\n",
    "beta_0 = 287.3\n",
    "# add empirical Bayes estimate\n",
    "# this is called a point estimate\n",
    "batting[\"eb_estimate\"] = (batting[\"H\"] + alpha_0) / (batting[\"AB\"] + alpha_0 + beta_0)\n",
    "batting[\"alpha_1\"] = alpha_0 + batting[\"H\"]\n",
    "batting[\"beta_1\"] = beta_0 + batting[\"AB\"] - batting[\"H\"]\n",
    "# sort by eb_estimate\n",
    "batting = batting.sort_values(\"eb_estimate\", ascending=False)"
   ]
  },
  {
   "cell_type": "code",
   "execution_count": 7,
   "metadata": {},
   "outputs": [
    {
     "data": {
      "text/html": [
       "<div>\n",
       "<style scoped>\n",
       "    .dataframe tbody tr th:only-of-type {\n",
       "        vertical-align: middle;\n",
       "    }\n",
       "\n",
       "    .dataframe tbody tr th {\n",
       "        vertical-align: top;\n",
       "    }\n",
       "\n",
       "    .dataframe thead th {\n",
       "        text-align: right;\n",
       "    }\n",
       "</style>\n",
       "<table border=\"1\" class=\"dataframe\">\n",
       "  <thead>\n",
       "    <tr style=\"text-align: right;\">\n",
       "      <th></th>\n",
       "      <th>playerID</th>\n",
       "      <th>AB</th>\n",
       "      <th>H</th>\n",
       "      <th>average</th>\n",
       "      <th>name</th>\n",
       "      <th>eb_estimate</th>\n",
       "      <th>alpha_1</th>\n",
       "      <th>beta_1</th>\n",
       "    </tr>\n",
       "  </thead>\n",
       "  <tbody>\n",
       "    <tr>\n",
       "      <th>4033</th>\n",
       "      <td>hornsro01</td>\n",
       "      <td>8173</td>\n",
       "      <td>2930</td>\n",
       "      <td>0.358497</td>\n",
       "      <td>Rogers Hornsby</td>\n",
       "      <td>0.354065</td>\n",
       "      <td>3031.4</td>\n",
       "      <td>5530.3</td>\n",
       "    </tr>\n",
       "    <tr>\n",
       "      <th>4216</th>\n",
       "      <td>jacksjo01</td>\n",
       "      <td>4981</td>\n",
       "      <td>1772</td>\n",
       "      <td>0.355752</td>\n",
       "      <td>Shoeless Joe Jackson</td>\n",
       "      <td>0.348884</td>\n",
       "      <td>1873.4</td>\n",
       "      <td>3496.3</td>\n",
       "    </tr>\n",
       "    <tr>\n",
       "      <th>2159</th>\n",
       "      <td>delahed01</td>\n",
       "      <td>7510</td>\n",
       "      <td>2597</td>\n",
       "      <td>0.345806</td>\n",
       "      <td>Ed Delahanty</td>\n",
       "      <td>0.341626</td>\n",
       "      <td>2698.4</td>\n",
       "      <td>5200.3</td>\n",
       "    </tr>\n",
       "    <tr>\n",
       "      <th>3559</th>\n",
       "      <td>hamilbi01</td>\n",
       "      <td>6283</td>\n",
       "      <td>2164</td>\n",
       "      <td>0.344421</td>\n",
       "      <td>Billy Hamilton</td>\n",
       "      <td>0.339554</td>\n",
       "      <td>2265.4</td>\n",
       "      <td>4406.3</td>\n",
       "    </tr>\n",
       "    <tr>\n",
       "      <th>4514</th>\n",
       "      <td>keelewi01</td>\n",
       "      <td>8591</td>\n",
       "      <td>2932</td>\n",
       "      <td>0.341287</td>\n",
       "      <td>Willie Keeler</td>\n",
       "      <td>0.337806</td>\n",
       "      <td>3033.4</td>\n",
       "      <td>5946.3</td>\n",
       "    </tr>\n",
       "  </tbody>\n",
       "</table>\n",
       "</div>"
      ],
      "text/plain": [
       "       playerID    AB     H   average                  name  eb_estimate  \\\n",
       "4033  hornsro01  8173  2930  0.358497        Rogers Hornsby     0.354065   \n",
       "4216  jacksjo01  4981  1772  0.355752  Shoeless Joe Jackson     0.348884   \n",
       "2159  delahed01  7510  2597  0.345806          Ed Delahanty     0.341626   \n",
       "3559  hamilbi01  6283  2164  0.344421        Billy Hamilton     0.339554   \n",
       "4514  keelewi01  8591  2932  0.341287         Willie Keeler     0.337806   \n",
       "\n",
       "      alpha_1  beta_1  \n",
       "4033   3031.4  5530.3  \n",
       "4216   1873.4  3496.3  \n",
       "2159   2698.4  5200.3  \n",
       "3559   2265.4  4406.3  \n",
       "4514   3033.4  5946.3  "
      ]
     },
     "execution_count": 7,
     "metadata": {},
     "output_type": "execute_result"
    }
   ],
   "source": [
    "batting.head()"
   ]
  },
  {
   "cell_type": "markdown",
   "metadata": {},
   "source": [
    "Let's take a look at Mike Piazza and Hank Aaron:"
   ]
  },
  {
   "cell_type": "code",
   "execution_count": 77,
   "metadata": {},
   "outputs": [],
   "source": [
    "aaron = batting.loc[batting[\"name\"] == \"Hank Aaron\"]\n",
    "piazza = batting.loc[batting[\"name\"] == \"Mike Piazza\"]\n",
    "matsui = batting.loc[batting[\"name\"] == \"Hideki Matsui\"]\n",
    "melton = batting.loc[batting[\"name\"] == \"Bill Melton\"]"
   ]
  },
  {
   "cell_type": "code",
   "execution_count": 10,
   "metadata": {},
   "outputs": [
    {
     "data": {
      "text/html": [
       "<div>\n",
       "<style scoped>\n",
       "    .dataframe tbody tr th:only-of-type {\n",
       "        vertical-align: middle;\n",
       "    }\n",
       "\n",
       "    .dataframe tbody tr th {\n",
       "        vertical-align: top;\n",
       "    }\n",
       "\n",
       "    .dataframe thead th {\n",
       "        text-align: right;\n",
       "    }\n",
       "</style>\n",
       "<table border=\"1\" class=\"dataframe\">\n",
       "  <thead>\n",
       "    <tr style=\"text-align: right;\">\n",
       "      <th></th>\n",
       "      <th>playerID</th>\n",
       "      <th>AB</th>\n",
       "      <th>H</th>\n",
       "      <th>average</th>\n",
       "      <th>name</th>\n",
       "      <th>eb_estimate</th>\n",
       "      <th>alpha_1</th>\n",
       "      <th>beta_1</th>\n",
       "    </tr>\n",
       "  </thead>\n",
       "  <tbody>\n",
       "    <tr>\n",
       "      <th>0</th>\n",
       "      <td>aaronha01</td>\n",
       "      <td>12364</td>\n",
       "      <td>3771</td>\n",
       "      <td>0.304998</td>\n",
       "      <td>Hank Aaron</td>\n",
       "      <td>0.303653</td>\n",
       "      <td>3872.4</td>\n",
       "      <td>8880.3</td>\n",
       "    </tr>\n",
       "  </tbody>\n",
       "</table>\n",
       "</div>"
      ],
      "text/plain": [
       "    playerID     AB     H   average        name  eb_estimate  alpha_1  beta_1\n",
       "0  aaronha01  12364  3771  0.304998  Hank Aaron     0.303653   3872.4  8880.3"
      ]
     },
     "execution_count": 10,
     "metadata": {},
     "output_type": "execute_result"
    }
   ],
   "source": [
    "aaron"
   ]
  },
  {
   "cell_type": "code",
   "execution_count": 11,
   "metadata": {},
   "outputs": [
    {
     "data": {
      "text/html": [
       "<div>\n",
       "<style scoped>\n",
       "    .dataframe tbody tr th:only-of-type {\n",
       "        vertical-align: middle;\n",
       "    }\n",
       "\n",
       "    .dataframe tbody tr th {\n",
       "        vertical-align: top;\n",
       "    }\n",
       "\n",
       "    .dataframe thead th {\n",
       "        text-align: right;\n",
       "    }\n",
       "</style>\n",
       "<table border=\"1\" class=\"dataframe\">\n",
       "  <thead>\n",
       "    <tr style=\"text-align: right;\">\n",
       "      <th></th>\n",
       "      <th>playerID</th>\n",
       "      <th>AB</th>\n",
       "      <th>H</th>\n",
       "      <th>average</th>\n",
       "      <th>name</th>\n",
       "      <th>eb_estimate</th>\n",
       "      <th>alpha_1</th>\n",
       "      <th>beta_1</th>\n",
       "    </tr>\n",
       "  </thead>\n",
       "  <tbody>\n",
       "    <tr>\n",
       "      <th>6877</th>\n",
       "      <td>piazzmi01</td>\n",
       "      <td>6911</td>\n",
       "      <td>2127</td>\n",
       "      <td>0.30777</td>\n",
       "      <td>Mike Piazza</td>\n",
       "      <td>0.305273</td>\n",
       "      <td>2228.4</td>\n",
       "      <td>5071.3</td>\n",
       "    </tr>\n",
       "  </tbody>\n",
       "</table>\n",
       "</div>"
      ],
      "text/plain": [
       "       playerID    AB     H  average         name  eb_estimate  alpha_1  \\\n",
       "6877  piazzmi01  6911  2127  0.30777  Mike Piazza     0.305273   2228.4   \n",
       "\n",
       "      beta_1  \n",
       "6877  5071.3  "
      ]
     },
     "execution_count": 11,
     "metadata": {},
     "output_type": "execute_result"
    }
   ],
   "source": [
    "piazza"
   ]
  },
  {
   "cell_type": "code",
   "execution_count": 78,
   "metadata": {},
   "outputs": [
    {
     "data": {
      "text/html": [
       "<div>\n",
       "<style scoped>\n",
       "    .dataframe tbody tr th:only-of-type {\n",
       "        vertical-align: middle;\n",
       "    }\n",
       "\n",
       "    .dataframe tbody tr th {\n",
       "        vertical-align: top;\n",
       "    }\n",
       "\n",
       "    .dataframe thead th {\n",
       "        text-align: right;\n",
       "    }\n",
       "</style>\n",
       "<table border=\"1\" class=\"dataframe\">\n",
       "  <thead>\n",
       "    <tr style=\"text-align: right;\">\n",
       "      <th></th>\n",
       "      <th>playerID</th>\n",
       "      <th>AB</th>\n",
       "      <th>H</th>\n",
       "      <th>average</th>\n",
       "      <th>name</th>\n",
       "      <th>eb_estimate</th>\n",
       "      <th>alpha_1</th>\n",
       "      <th>beta_1</th>\n",
       "    </tr>\n",
       "  </thead>\n",
       "  <tbody>\n",
       "    <tr>\n",
       "      <th>5807</th>\n",
       "      <td>meltobi01</td>\n",
       "      <td>3971</td>\n",
       "      <td>1004</td>\n",
       "      <td>0.252833</td>\n",
       "      <td>Bill Melton</td>\n",
       "      <td>0.25355</td>\n",
       "      <td>1105.4</td>\n",
       "      <td>3254.3</td>\n",
       "    </tr>\n",
       "  </tbody>\n",
       "</table>\n",
       "</div>"
      ],
      "text/plain": [
       "       playerID    AB     H   average         name  eb_estimate  alpha_1  \\\n",
       "5807  meltobi01  3971  1004  0.252833  Bill Melton      0.25355   1105.4   \n",
       "\n",
       "      beta_1  \n",
       "5807  3254.3  "
      ]
     },
     "execution_count": 78,
     "metadata": {},
     "output_type": "execute_result"
    }
   ],
   "source": [
    "melton"
   ]
  },
  {
   "cell_type": "code",
   "execution_count": 14,
   "metadata": {},
   "outputs": [
    {
     "data": {
      "image/png": "[encoded data removed]",
      "text/plain": [
       "<Figure size 432x288 with 1 Axes>"
      ]
     },
     "metadata": {
      "needs_background": "light"
     },
     "output_type": "display_data"
    }
   ],
   "source": [
    "# plot the posterior distributions\n",
    "x = np.linspace(0.25,0.35,1000)\n",
    "\n",
    "for data, name, color in [[aaron, \"Hank Aaron\", \"green\"], \n",
    "                          [piazza, \"Mike Piazza\", \"red\"], \n",
    "                          [matsui, \"Hideki Matsui\", \"blue\"]]:\n",
    "    alpha = data[\"alpha_1\"]\n",
    "    beta = data[\"beta_1\"]\n",
    "    pdf = st.beta.pdf(x,a=alpha,b=beta)\n",
    "    ax = sns.lineplot(x,pdf, color=color, label=name)\n",
    "ax.set(xlabel='Batting average', ylabel='density');"
   ]
  },
  {
   "cell_type": "markdown",
   "metadata": {},
   "source": [
    "Now, if we were to ask, who had a better batting average, Hank Aaron or Mike Piazza, there are multiple possibilities of doing that:\n",
    "\n",
    "1. Simulation of posterior draws\n",
    "2. Integration\n",
    "3. Closed-form solution\n",
    "4. Closed-form approximation\n",
    "\n",
    "Let's start with the first. We sample both distributions 1 million times and calculate the ratio that Piazza's draw was larger than Aaron's:"
   ]
  },
  {
   "cell_type": "code",
   "execution_count": 75,
   "metadata": {},
   "outputs": [],
   "source": [
    "# random draw\n",
    "alpha_aaron = batting.loc[batting.name==\"Hank Aaron\", \"alpha_1\"]\n",
    "beta_aaron = batting.loc[batting.name==\"Hank Aaron\", \"beta_1\"]\n",
    "aaron_simulation = st.beta.rvs(alpha_aaron, beta_aaron, size=1000000)\n",
    "alpha_piazza = batting.loc[batting.name==\"Mike Piazza\", \"alpha_1\"]\n",
    "beta_piazza = batting.loc[batting.name==\"Mike Piazza\", \"beta_1\"]\n",
    "piazza_simulation = st.beta.rvs(alpha_piazza, beta_piazza, size=1000000)\n",
    "alpha_melton = batting.loc[batting.name==\"Bill Melton\", \"alpha_1\"]\n",
    "beta_melton = batting.loc[batting.name==\"Bill Melton\", \"beta_1\"]"
   ]
  },
  {
   "cell_type": "code",
   "execution_count": 31,
   "metadata": {},
   "outputs": [
    {
     "data": {
      "text/plain": [
       "0.59436"
      ]
     },
     "execution_count": 31,
     "metadata": {},
     "output_type": "execute_result"
    }
   ],
   "source": [
    "# compare\n",
    "comparison = np.where(piazza_simulation > aaron_simulation, 1, 0)\n",
    "np.mean(comparison)"
   ]
  },
  {
   "cell_type": "markdown",
   "metadata": {},
   "source": [
    "Note that this answer for our hypothesis test is quite different from the frequentist outcome. If we were to use a frequentist hypothesis test, our p-value to reject the null hypothesis probably wouldn't be significant and we wouldn't be able to say anything except \"we cannot reject the null hypothesis\" and our test would be inconclusive. Here, we can now say that with a probability of 0.594 Piazza had a higher batting average than Aaron.\n",
    "\n",
    "Now, our next possibility of calculating this is numerical integration:"
   ]
  },
  {
   "cell_type": "code",
   "execution_count": 36,
   "metadata": {},
   "outputs": [],
   "source": [
    "from scipy.integrate import dblquad\n",
    "area = dblquad(lambda x, y: st.beta.pdf(x,a=alpha_aaron.values[0],b=beta_aaron.values[0])*st.beta.pdf(y,a=alpha_piazza.values[0],b=beta_piazza.values[0]), 0, 1, lambda x: x, lambda x: 1)"
   ]
  },
  {
   "cell_type": "code",
   "execution_count": 39,
   "metadata": {},
   "outputs": [
    {
     "data": {
      "text/plain": [
       "0.5943243597039876"
      ]
     },
     "execution_count": 39,
     "metadata": {},
     "output_type": "execute_result"
    }
   ],
   "source": [
    "1 - area[0] #since I switched around the order"
   ]
  },
  {
   "cell_type": "markdown",
   "metadata": {},
   "source": [
    "Next, we can use an approximation: For large alpha and beta, the beta distribution converges to the normal distribution. We are working with decently large numbers, so the approximation is pretty good. We can now calculate the probability that one normal variable is larger than another, which is a very easy calculation:"
   ]
  },
  {
   "cell_type": "code",
   "execution_count": 87,
   "metadata": {},
   "outputs": [],
   "source": [
    "def credile_interval_approximation(alpha_1, beta_1, alpha_2, beta_2):\n",
    "    \"\"\"Calculate the probability \n",
    "    \n",
    "    Parameters\n",
    "    ----------\n",
    "    alpha_1: float\n",
    "        Alpha parameter of the beta posterior distribution of player 1/test A\n",
    "    beta_1: float\n",
    "        Beta parameter of the beta posterior distribution of player 1/test A\n",
    "    alpha_2: float\n",
    "         Alpha parameter of the beta posterior distribution of player 2/test B \n",
    "    beta_2: float\n",
    "         Beta parameter of the beta posterior distribution of player 2/test B\n",
    "       \n",
    "    Returns\n",
    "    -------\n",
    "    float\n",
    "        Probability that test A has a higher probability than B\n",
    "    float\n",
    "        Difference in posterior average (mu_2 - mu_1)\n",
    "    float\n",
    "        Lower boundary of 95% credible interval\n",
    "    float\n",
    "        Upper boundary of 95% credible interval\n",
    "    \"\"\"\n",
    "    mu_1 = alpha_1 / (alpha_1 + beta_1)\n",
    "    mu_2 = alpha_2 / (alpha_2 + beta_2)\n",
    "    variance_1 = alpha_1 * beta_1 / ((alpha_1 + beta_1)**2 * (alpha_1 + beta_1 + 1))\n",
    "    variance_2 = alpha_2 * beta_2 / ((alpha_2 + beta_2)**2 * (alpha_2 + beta_2 + 1))\n",
    "    mu_diff = mu_2 - mu_1\n",
    "    sd_diff = np.sqrt(variance_1 + variance_2)\n",
    "    \n",
    "    return st.norm(mu_diff, sd_diff).cdf(0), mu_diff, st.norm(mu_diff, sd_diff).ppf(0.025), st.norm(mu_diff, sd_diff).ppf(0.975)"
   ]
  },
  {
   "cell_type": "code",
   "execution_count": 53,
   "metadata": {},
   "outputs": [
    {
     "name": "stdout",
     "output_type": "stream",
     "text": [
      "0.00675490900223421\n"
     ]
    },
    {
     "data": {
      "text/plain": [
       "(0.5947371612228725,\n",
       " -0.0016194754331937955,\n",
       " -0.014858853796418242,\n",
       " 0.011619902930030648)"
      ]
     },
     "execution_count": 53,
     "metadata": {},
     "output_type": "execute_result"
    }
   ],
   "source": [
    "credile_interval_approximation(alpha_piazza.values[0], beta_piazza.values[0], alpha_aaron.values[0], beta_aaron.values[0])"
   ]
  },
  {
   "cell_type": "code",
   "execution_count": 76,
   "metadata": {},
   "outputs": [
    {
     "name": "stdout",
     "output_type": "stream",
     "text": [
      "0.008511829366870331\n"
     ]
    },
    {
     "data": {
      "text/plain": [
       "(0.999999999386339,\n",
       " -0.05172326326881427,\n",
       " -0.06840614227043049,\n",
       " -0.03504038426719805)"
      ]
     },
     "execution_count": 76,
     "metadata": {},
     "output_type": "execute_result"
    }
   ],
   "source": [
    "credile_interval_approximation(alpha_piazza.values[0], beta_piazza.values[0], alpha_melton.values[0], beta_melton.values[0])"
   ]
  },
  {
   "cell_type": "markdown",
   "metadata": {},
   "source": [
    "A normal chi squared hypothesis test yields:"
   ]
  },
  {
   "cell_type": "code",
   "execution_count": 82,
   "metadata": {},
   "outputs": [
    {
     "data": {
      "text/plain": [
       "(20.598817323604425,\n",
       " 5.663108815999413e-06,\n",
       " 1,\n",
       " array([[1111.59102262, 3863.40897738],\n",
       "        [2019.40897738, 7018.59102262]]))"
      ]
     },
     "execution_count": 82,
     "metadata": {},
     "output_type": "execute_result"
    }
   ],
   "source": [
    "observed = np.array([[1004, 3971], [2127, 6911]])\n",
    "st.chi2_contingency(observed)"
   ]
  },
  {
   "cell_type": "markdown",
   "metadata": {},
   "source": [
    "If we wanted to calculate the confidence interval like R does:"
   ]
  },
  {
   "cell_type": "code",
   "execution_count": 89,
   "metadata": {},
   "outputs": [],
   "source": [
    "def diffprop(contingency_table):\n",
    "    \"\"\"\n",
    "    Parameters\n",
    "    ----------\n",
    "    contingency_table: np.array\n",
    "        must be a 2x2 numpy array \n",
    "\n",
    "    Returns\n",
    "    -------\n",
    "    delta: float\n",
    "        The difference in proportions\n",
    "    ci: (float, float)\n",
    "        The Wald 95% confidence interval for delta\n",
    "    corrected_ci: (float, float)\n",
    "        Yates continuity correction for the 95% confidence interval of delta.\n",
    "    \"\"\"\n",
    "    n1, n2 = contingency_table[0,1], contingency_table[1,1]\n",
    "    prop1 = contingency_table[0,0] / n1\n",
    "    prop2 = contingency_table[1,0] / n2\n",
    "    delta = prop1 - prop2\n",
    "\n",
    "    # Wald 95% confidence interval for delta\n",
    "    se = np.sqrt(prop1*(1 - prop1)/n1 + prop2*(1 - prop2)/n2)\n",
    "    ci = (delta - 1.96*se, delta + 1.96*se)\n",
    "\n",
    "    # Yates continuity correction for confidence interval of delta\n",
    "    correction = 0.5*(1/n1 + 1/n2)\n",
    "    corrected_ci = (ci[0] - correction, ci[1] + correction)\n",
    "\n",
    "    return delta, ci, corrected_ci"
   ]
  },
  {
   "cell_type": "code",
   "execution_count": 90,
   "metadata": {},
   "outputs": [],
   "source": [
    "delta, ci, corrected_ci = diffprop(observed)"
   ]
  },
  {
   "cell_type": "code",
   "execution_count": 91,
   "metadata": {},
   "outputs": [
    {
     "data": {
      "text/plain": [
       "-0.05493718184955526"
      ]
     },
     "execution_count": 91,
     "metadata": {},
     "output_type": "execute_result"
    }
   ],
   "source": [
    "delta"
   ]
  },
  {
   "cell_type": "code",
   "execution_count": 92,
   "metadata": {},
   "outputs": [
    {
     "data": {
      "text/plain": [
       "(-0.07229169032276282, -0.0375826733763477)"
      ]
     },
     "execution_count": 92,
     "metadata": {},
     "output_type": "execute_result"
    }
   ],
   "source": [
    "ci"
   ]
  },
  {
   "cell_type": "code",
   "execution_count": null,
   "metadata": {},
   "outputs": [],
   "source": []
  }
 ],
 "metadata": {
  "kernelspec": {
   "display_name": "Python 3",
   "language": "python",
   "name": "python3"
  },
  "language_info": {
   "codemirror_mode": {
    "name": "ipython",
    "version": 3
   },
   "file_extension": ".py",
   "mimetype": "text/x-python",
   "name": "python",
   "nbconvert_exporter": "python",
   "pygments_lexer": "ipython3",
   "version": "3.6.7"
  }
 },
 "nbformat": 4,
 "nbformat_minor": 2
}
